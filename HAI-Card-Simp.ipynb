{
 "cells": [
  {
   "cell_type": "markdown",
   "metadata": {},
   "source": [
    "HAI Card Game"
   ]
  },
  {
   "cell_type": "code",
   "execution_count": 7,
   "metadata": {},
   "outputs": [],
   "source": [
    "import random\n",
    "import numpy as np\n",
    "from linear_irl import large_irl\n",
    "from value_iteration import value"
   ]
  },
  {
   "cell_type": "code",
   "execution_count": 1,
   "metadata": {},
   "outputs": [],
   "source": [
    "def get_states(cards, height, memo = {}):\n",
    "    if cards == [0] * height:\n",
    "        return {f'0 ' * height}\n",
    "    returnedCards = set()\n",
    "    if tuple(cards) in memo:\n",
    "        return memo[tuple(cards)]    \n",
    "    for i, card in enumerate(cards):\n",
    "        if card != 0:\n",
    "            nextCards = cards.copy()\n",
    "            nextCards[i] //= 10\n",
    "            returnedCards.add(' '.join([str(i) for i in nextCards]))\n",
    "            returnedCards |= get_states(nextCards, height, memo)\n",
    "    memo[tuple(cards)] = set(returnedCards)\n",
    "    return set(returnedCards)"
   ]
  },
  {
   "cell_type": "code",
   "execution_count": 33,
   "metadata": {},
   "outputs": [],
   "source": [
    "def get_next_state(state_str, action):\n",
    "    state = state_str.split()\n",
    "    state = [int(i) for i in state]\n",
    "    row_to_mod = state[action - 1]\n",
    "    if row_to_mod == 0:\n",
    "        return None\n",
    "    row_to_mod //= 10\n",
    "    state[action - 1] = row_to_mod\n",
    "    return ' '.join([str(i) for i in state])"
   ]
  },
  {
   "cell_type": "code",
   "execution_count": 3,
   "metadata": {},
   "outputs": [],
   "source": [
    "def get_transition_probabilities(states, num_actions):\n",
    "    returned_lst_1 = []\n",
    "    for i in states:\n",
    "        returned_lst_2 = []\n",
    "        next_states = [get_next_state(i, action + 1) for action in range(num_actions)]\n",
    "        num_of_nones = sum([state == None for state in next_states])\n",
    "        for j in range(num_actions):\n",
    "            returned_lst_3 = []\n",
    "            if next_states[j] == None:\n",
    "                returned_lst_2.append([0] * len(states))\n",
    "            else:\n",
    "                for k in states:\n",
    "                    if k == next_states[j]:\n",
    "                        returned_lst_3.append((1 / (num_actions - num_of_nones - 1 + 8)) * 8)\n",
    "                    elif k in next_states:\n",
    "                        returned_lst_3.append(1 / (num_actions - num_of_nones - 1 + 8))\n",
    "                    else:\n",
    "                        returned_lst_3.append(0)\n",
    "                returned_lst_2.append(returned_lst_3)\n",
    "        returned_lst_1.append(returned_lst_2)\n",
    "    return np.array(returned_lst_1)"
   ]
  },
  {
   "cell_type": "code",
   "execution_count": 32,
   "metadata": {},
   "outputs": [],
   "source": [
    "def get_policy(states, num_actions, initial_state, elimination_sequence):\n",
    "    state = \" \".join([str(i) for i in initial_state])\n",
    "    policy_list = [random.randint(0, num_actions - 1) for _ in range(len(states))]\n",
    "    elimination_sequence = [int(i) for i in elimination_sequence]\n",
    "    for i in elimination_sequence:\n",
    "        index = list(states).index(state)\n",
    "        policy_list[index] = i\n",
    "        state = get_next_state(state, i + 1)\n",
    "    return policy_list "
   ]
  },
  {
   "cell_type": "code",
   "execution_count": 5,
   "metadata": {},
   "outputs": [],
   "source": [
    "def get_values(feature_matrix, policy, num_states, transition_probabilities, discount_factor = 0.9, threshold = 0.1):\n",
    "    values = []\n",
    "    for dim in range(feature_matrix.shape[1]):\n",
    "        reward = feature_matrix[:, dim]\n",
    "        values.append(value(policy, num_states, transition_probabilities, reward, discount_factor, threshold))\n",
    "    return np.array(values)"
   ]
  },
  {
   "cell_type": "code",
   "execution_count": 6,
   "metadata": {},
   "outputs": [],
   "source": [
    "def get_feature_matrix(states, initial_state):\n",
    "    lst = []\n",
    "    initial_state = \"\".join([str(i) for i in initial_state])\n",
    "    for state in states:\n",
    "        state = state.split()\n",
    "        state = ''.join([str(i) for i in state])\n",
    "        lst.append([(len(initial_state) - len(state)) / len(initial_state)])\n",
    "    return np.array(lst)"
   ]
  },
  {
   "cell_type": "code",
   "execution_count": 27,
   "metadata": {},
   "outputs": [],
   "source": [
    "states = get_states([131242, 412323, 142243, 443131], 4).union({'131242 412323 142243 443131'})"
   ]
  },
  {
   "cell_type": "code",
   "execution_count": 28,
   "metadata": {},
   "outputs": [],
   "source": [
    "num_states = len(states)\n",
    "actions = 4"
   ]
  },
  {
   "cell_type": "code",
   "execution_count": 34,
   "metadata": {},
   "outputs": [],
   "source": [
    "transition = get_transition_probabilities(states, actions)"
   ]
  },
  {
   "cell_type": "code",
   "execution_count": 35,
   "metadata": {},
   "outputs": [],
   "source": [
    "policy = get_policy(states, actions, [131242, 412323, 142243, 443131], '211100030111222303322033')"
   ]
  },
  {
   "cell_type": "code",
   "execution_count": 36,
   "metadata": {},
   "outputs": [],
   "source": [
    "feature_matrix = get_feature_matrix(states, [131242, 412323, 142243, 443131])"
   ]
  },
  {
   "cell_type": "code",
   "execution_count": 41,
   "metadata": {},
   "outputs": [
    {
     "data": {
      "text/plain": [
       "2402"
      ]
     },
     "execution_count": 41,
     "metadata": {},
     "output_type": "execute_result"
    }
   ],
   "source": [
    "#values = get_values(feature_matrix, policy, num_states, transition)\n",
    "len(states)"
   ]
  }
 ],
 "metadata": {
  "kernelspec": {
   "display_name": "Python 3",
   "language": "python",
   "name": "python3"
  },
  "language_info": {
   "codemirror_mode": {
    "name": "ipython",
    "version": 3
   },
   "file_extension": ".py",
   "mimetype": "text/x-python",
   "name": "python",
   "nbconvert_exporter": "python",
   "pygments_lexer": "ipython3",
   "version": "3.12.1"
  }
 },
 "nbformat": 4,
 "nbformat_minor": 2
}
